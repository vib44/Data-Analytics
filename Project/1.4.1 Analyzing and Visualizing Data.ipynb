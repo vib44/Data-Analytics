{
 "cells": [
  {
   "cell_type": "code",
   "execution_count": 105,
   "id": "96d34179",
   "metadata": {},
   "outputs": [
    {
     "name": "stdout",
     "output_type": "stream",
     "text": [
      "Requirement already satisfied: seaborn in c:\\programdata\\anaconda3\\lib\\site-packages (0.11.2)\n",
      "Requirement already satisfied: scipy>=1.0 in c:\\programdata\\anaconda3\\lib\\site-packages (from seaborn) (1.7.1)\n",
      "Requirement already satisfied: pandas>=0.23 in c:\\programdata\\anaconda3\\lib\\site-packages (from seaborn) (1.3.4)\n",
      "Requirement already satisfied: matplotlib>=2.2 in c:\\programdata\\anaconda3\\lib\\site-packages (from seaborn) (3.4.3)\n",
      "Requirement already satisfied: numpy>=1.15 in c:\\programdata\\anaconda3\\lib\\site-packages (from seaborn) (1.20.3)\n",
      "Requirement already satisfied: pyparsing>=2.2.1 in c:\\programdata\\anaconda3\\lib\\site-packages (from matplotlib>=2.2->seaborn) (3.0.4)\n",
      "Requirement already satisfied: kiwisolver>=1.0.1 in c:\\programdata\\anaconda3\\lib\\site-packages (from matplotlib>=2.2->seaborn) (1.3.1)\n",
      "Requirement already satisfied: cycler>=0.10 in c:\\programdata\\anaconda3\\lib\\site-packages (from matplotlib>=2.2->seaborn) (0.10.0)\n",
      "Requirement already satisfied: python-dateutil>=2.7 in c:\\programdata\\anaconda3\\lib\\site-packages (from matplotlib>=2.2->seaborn) (2.8.2)\n",
      "Requirement already satisfied: pillow>=6.2.0 in c:\\programdata\\anaconda3\\lib\\site-packages (from matplotlib>=2.2->seaborn) (8.4.0)\n",
      "Requirement already satisfied: six in c:\\programdata\\anaconda3\\lib\\site-packages (from cycler>=0.10->matplotlib>=2.2->seaborn) (1.16.0)\n",
      "Requirement already satisfied: pytz>=2017.3 in c:\\programdata\\anaconda3\\lib\\site-packages (from pandas>=0.23->seaborn) (2021.3)\n"
     ]
    }
   ],
   "source": [
    "! pip install seaborn"
   ]
  },
  {
   "cell_type": "code",
   "execution_count": 106,
   "id": "d3ebf022",
   "metadata": {},
   "outputs": [
    {
     "name": "stdout",
     "output_type": "stream",
     "text": [
      "Requirement already satisfied: scikit-learn in c:\\programdata\\anaconda3\\lib\\site-packages (0.24.2)\n",
      "Requirement already satisfied: numpy>=1.13.3 in c:\\programdata\\anaconda3\\lib\\site-packages (from scikit-learn) (1.20.3)\n",
      "Requirement already satisfied: threadpoolctl>=2.0.0 in c:\\programdata\\anaconda3\\lib\\site-packages (from scikit-learn) (2.2.0)\n",
      "Requirement already satisfied: scipy>=0.19.1 in c:\\programdata\\anaconda3\\lib\\site-packages (from scikit-learn) (1.7.1)\n",
      "Requirement already satisfied: joblib>=0.11 in c:\\programdata\\anaconda3\\lib\\site-packages (from scikit-learn) (1.1.0)\n"
     ]
    }
   ],
   "source": [
    "! pip install scikit-learn"
   ]
  },
  {
   "cell_type": "code",
   "execution_count": 107,
   "id": "74b3cfcd",
   "metadata": {},
   "outputs": [],
   "source": [
    "import pandas as pd\n",
    "import numpy as np\n",
    "import matplotlib.pyplot as plt\n",
    "import seaborn as sns\n"
   ]
  },
  {
   "cell_type": "code",
   "execution_count": 108,
   "id": "9fba4e04",
   "metadata": {},
   "outputs": [
    {
     "data": {
      "text/html": [
       "<div>\n",
       "<style scoped>\n",
       "    .dataframe tbody tr th:only-of-type {\n",
       "        vertical-align: middle;\n",
       "    }\n",
       "\n",
       "    .dataframe tbody tr th {\n",
       "        vertical-align: top;\n",
       "    }\n",
       "\n",
       "    .dataframe thead th {\n",
       "        text-align: right;\n",
       "    }\n",
       "</style>\n",
       "<table border=\"1\" class=\"dataframe\">\n",
       "  <thead>\n",
       "    <tr style=\"text-align: right;\">\n",
       "      <th></th>\n",
       "      <th>Title</th>\n",
       "      <th>Movie Info</th>\n",
       "      <th>Distributor</th>\n",
       "      <th>Release Date</th>\n",
       "      <th>Domestic Sales (in $)</th>\n",
       "      <th>International Sales (in $)</th>\n",
       "      <th>World Sales (in $)</th>\n",
       "      <th>Genre</th>\n",
       "      <th>Movie Runtime</th>\n",
       "      <th>License</th>\n",
       "    </tr>\n",
       "  </thead>\n",
       "  <tbody>\n",
       "    <tr>\n",
       "      <th>0</th>\n",
       "      <td>Star Wars: Episode VII - The Force Awakens (2015)</td>\n",
       "      <td>As a new threat to the galaxy rises, Rey, a de...</td>\n",
       "      <td>Walt Disney Studios Motion Pictures</td>\n",
       "      <td>December 16, 2015</td>\n",
       "      <td>936662225</td>\n",
       "      <td>1132859475</td>\n",
       "      <td>2069521700</td>\n",
       "      <td>['Action', 'Adventure', 'Sci-Fi']</td>\n",
       "      <td>2 hr 18 min</td>\n",
       "      <td>PG-13</td>\n",
       "    </tr>\n",
       "    <tr>\n",
       "      <th>1</th>\n",
       "      <td>Avengers: Endgame (2019)</td>\n",
       "      <td>After the devastating events of Avengers: Infi...</td>\n",
       "      <td>Walt Disney Studios Motion Pictures</td>\n",
       "      <td>April 24, 2019</td>\n",
       "      <td>858373000</td>\n",
       "      <td>1939128328</td>\n",
       "      <td>2797501328</td>\n",
       "      <td>['Action', 'Adventure', 'Drama', 'Sci-Fi']</td>\n",
       "      <td>3 hr 1 min</td>\n",
       "      <td>PG-13</td>\n",
       "    </tr>\n",
       "    <tr>\n",
       "      <th>2</th>\n",
       "      <td>Avatar (2009)</td>\n",
       "      <td>A paraplegic Marine dispatched to the moon Pan...</td>\n",
       "      <td>Twentieth Century Fox</td>\n",
       "      <td>December 16, 2009</td>\n",
       "      <td>760507625</td>\n",
       "      <td>2086738578</td>\n",
       "      <td>2847246203</td>\n",
       "      <td>['Action', 'Adventure', 'Fantasy', 'Sci-Fi']</td>\n",
       "      <td>2 hr 42 min</td>\n",
       "      <td>PG-13</td>\n",
       "    </tr>\n",
       "    <tr>\n",
       "      <th>3</th>\n",
       "      <td>Black Panther (2018)</td>\n",
       "      <td>T'Challa, heir to the hidden but advanced king...</td>\n",
       "      <td>Walt Disney Studios Motion Pictures</td>\n",
       "      <td>NaN</td>\n",
       "      <td>700426566</td>\n",
       "      <td>647171407</td>\n",
       "      <td>1347597973</td>\n",
       "      <td>['Action', 'Adventure', 'Sci-Fi']</td>\n",
       "      <td>2 hr 14 min</td>\n",
       "      <td>NaN</td>\n",
       "    </tr>\n",
       "    <tr>\n",
       "      <th>4</th>\n",
       "      <td>Avengers: Infinity War (2018)</td>\n",
       "      <td>The Avengers and their allies must be willing ...</td>\n",
       "      <td>Walt Disney Studios Motion Pictures</td>\n",
       "      <td>NaN</td>\n",
       "      <td>678815482</td>\n",
       "      <td>1369544272</td>\n",
       "      <td>2048359754</td>\n",
       "      <td>['Action', 'Adventure', 'Sci-Fi']</td>\n",
       "      <td>2 hr 29 min</td>\n",
       "      <td>NaN</td>\n",
       "    </tr>\n",
       "  </tbody>\n",
       "</table>\n",
       "</div>"
      ],
      "text/plain": [
       "                                               Title  \\\n",
       "0  Star Wars: Episode VII - The Force Awakens (2015)   \n",
       "1                           Avengers: Endgame (2019)   \n",
       "2                                      Avatar (2009)   \n",
       "3                               Black Panther (2018)   \n",
       "4                      Avengers: Infinity War (2018)   \n",
       "\n",
       "                                          Movie Info  \\\n",
       "0  As a new threat to the galaxy rises, Rey, a de...   \n",
       "1  After the devastating events of Avengers: Infi...   \n",
       "2  A paraplegic Marine dispatched to the moon Pan...   \n",
       "3  T'Challa, heir to the hidden but advanced king...   \n",
       "4  The Avengers and their allies must be willing ...   \n",
       "\n",
       "                           Distributor       Release Date  \\\n",
       "0  Walt Disney Studios Motion Pictures  December 16, 2015   \n",
       "1  Walt Disney Studios Motion Pictures     April 24, 2019   \n",
       "2                Twentieth Century Fox  December 16, 2009   \n",
       "3  Walt Disney Studios Motion Pictures                NaN   \n",
       "4  Walt Disney Studios Motion Pictures                NaN   \n",
       "\n",
       "   Domestic Sales (in $)  International Sales (in $)  World Sales (in $)  \\\n",
       "0              936662225                  1132859475          2069521700   \n",
       "1              858373000                  1939128328          2797501328   \n",
       "2              760507625                  2086738578          2847246203   \n",
       "3              700426566                   647171407          1347597973   \n",
       "4              678815482                  1369544272          2048359754   \n",
       "\n",
       "                                          Genre Movie Runtime License  \n",
       "0             ['Action', 'Adventure', 'Sci-Fi']   2 hr 18 min   PG-13  \n",
       "1    ['Action', 'Adventure', 'Drama', 'Sci-Fi']    3 hr 1 min   PG-13  \n",
       "2  ['Action', 'Adventure', 'Fantasy', 'Sci-Fi']   2 hr 42 min   PG-13  \n",
       "3             ['Action', 'Adventure', 'Sci-Fi']   2 hr 14 min     NaN  \n",
       "4             ['Action', 'Adventure', 'Sci-Fi']   2 hr 29 min     NaN  "
      ]
     },
     "execution_count": 108,
     "metadata": {},
     "output_type": "execute_result"
    }
   ],
   "source": [
    "laptop_data=pd.read_csv('Folder1/Highest Holywood Grossing Movies.csv', index_col=0)\n",
    "laptop_data.head()"
   ]
  },
  {
   "cell_type": "code",
   "execution_count": 109,
   "id": "3a6b1ce7",
   "metadata": {},
   "outputs": [
    {
     "data": {
      "text/html": [
       "<div>\n",
       "<style scoped>\n",
       "    .dataframe tbody tr th:only-of-type {\n",
       "        vertical-align: middle;\n",
       "    }\n",
       "\n",
       "    .dataframe tbody tr th {\n",
       "        vertical-align: top;\n",
       "    }\n",
       "\n",
       "    .dataframe thead th {\n",
       "        text-align: right;\n",
       "    }\n",
       "</style>\n",
       "<table border=\"1\" class=\"dataframe\">\n",
       "  <thead>\n",
       "    <tr style=\"text-align: right;\">\n",
       "      <th></th>\n",
       "      <th>Title</th>\n",
       "      <th>Movie Info</th>\n",
       "      <th>Distributor</th>\n",
       "      <th>Release Date</th>\n",
       "      <th>Domestic Sales (in $)</th>\n",
       "      <th>International Sales (in $)</th>\n",
       "      <th>World Sales (in $)</th>\n",
       "      <th>Genre</th>\n",
       "      <th>Movie Runtime</th>\n",
       "      <th>License</th>\n",
       "    </tr>\n",
       "  </thead>\n",
       "  <tbody>\n",
       "    <tr>\n",
       "      <th>0</th>\n",
       "      <td>Star Wars: Episode VII - The Force Awakens (2015)</td>\n",
       "      <td>As a new threat to the galaxy rises, Rey, a de...</td>\n",
       "      <td>Walt Disney Studios Motion Pictures</td>\n",
       "      <td>December 16, 2015</td>\n",
       "      <td>936662225</td>\n",
       "      <td>1132859475</td>\n",
       "      <td>2069521700</td>\n",
       "      <td>['Action', 'Adventure', 'Sci-Fi']</td>\n",
       "      <td>2 hr 18 min</td>\n",
       "      <td>PG-13</td>\n",
       "    </tr>\n",
       "    <tr>\n",
       "      <th>1</th>\n",
       "      <td>Avengers: Endgame (2019)</td>\n",
       "      <td>After the devastating events of Avengers: Infi...</td>\n",
       "      <td>Walt Disney Studios Motion Pictures</td>\n",
       "      <td>April 24, 2019</td>\n",
       "      <td>858373000</td>\n",
       "      <td>1939128328</td>\n",
       "      <td>2797501328</td>\n",
       "      <td>['Action', 'Adventure', 'Drama', 'Sci-Fi']</td>\n",
       "      <td>3 hr 1 min</td>\n",
       "      <td>PG-13</td>\n",
       "    </tr>\n",
       "    <tr>\n",
       "      <th>2</th>\n",
       "      <td>Avatar (2009)</td>\n",
       "      <td>A paraplegic Marine dispatched to the moon Pan...</td>\n",
       "      <td>Twentieth Century Fox</td>\n",
       "      <td>December 16, 2009</td>\n",
       "      <td>760507625</td>\n",
       "      <td>2086738578</td>\n",
       "      <td>2847246203</td>\n",
       "      <td>['Action', 'Adventure', 'Fantasy', 'Sci-Fi']</td>\n",
       "      <td>2 hr 42 min</td>\n",
       "      <td>PG-13</td>\n",
       "    </tr>\n",
       "    <tr>\n",
       "      <th>3</th>\n",
       "      <td>Black Panther (2018)</td>\n",
       "      <td>T'Challa, heir to the hidden but advanced king...</td>\n",
       "      <td>Walt Disney Studios Motion Pictures</td>\n",
       "      <td>NaN</td>\n",
       "      <td>700426566</td>\n",
       "      <td>647171407</td>\n",
       "      <td>1347597973</td>\n",
       "      <td>['Action', 'Adventure', 'Sci-Fi']</td>\n",
       "      <td>2 hr 14 min</td>\n",
       "      <td>NaN</td>\n",
       "    </tr>\n",
       "    <tr>\n",
       "      <th>4</th>\n",
       "      <td>Avengers: Infinity War (2018)</td>\n",
       "      <td>The Avengers and their allies must be willing ...</td>\n",
       "      <td>Walt Disney Studios Motion Pictures</td>\n",
       "      <td>NaN</td>\n",
       "      <td>678815482</td>\n",
       "      <td>1369544272</td>\n",
       "      <td>2048359754</td>\n",
       "      <td>['Action', 'Adventure', 'Sci-Fi']</td>\n",
       "      <td>2 hr 29 min</td>\n",
       "      <td>NaN</td>\n",
       "    </tr>\n",
       "  </tbody>\n",
       "</table>\n",
       "</div>"
      ],
      "text/plain": [
       "                                               Title  \\\n",
       "0  Star Wars: Episode VII - The Force Awakens (2015)   \n",
       "1                           Avengers: Endgame (2019)   \n",
       "2                                      Avatar (2009)   \n",
       "3                               Black Panther (2018)   \n",
       "4                      Avengers: Infinity War (2018)   \n",
       "\n",
       "                                          Movie Info  \\\n",
       "0  As a new threat to the galaxy rises, Rey, a de...   \n",
       "1  After the devastating events of Avengers: Infi...   \n",
       "2  A paraplegic Marine dispatched to the moon Pan...   \n",
       "3  T'Challa, heir to the hidden but advanced king...   \n",
       "4  The Avengers and their allies must be willing ...   \n",
       "\n",
       "                           Distributor       Release Date  \\\n",
       "0  Walt Disney Studios Motion Pictures  December 16, 2015   \n",
       "1  Walt Disney Studios Motion Pictures     April 24, 2019   \n",
       "2                Twentieth Century Fox  December 16, 2009   \n",
       "3  Walt Disney Studios Motion Pictures                NaN   \n",
       "4  Walt Disney Studios Motion Pictures                NaN   \n",
       "\n",
       "   Domestic Sales (in $)  International Sales (in $)  World Sales (in $)  \\\n",
       "0              936662225                  1132859475          2069521700   \n",
       "1              858373000                  1939128328          2797501328   \n",
       "2              760507625                  2086738578          2847246203   \n",
       "3              700426566                   647171407          1347597973   \n",
       "4              678815482                  1369544272          2048359754   \n",
       "\n",
       "                                          Genre Movie Runtime License  \n",
       "0             ['Action', 'Adventure', 'Sci-Fi']   2 hr 18 min   PG-13  \n",
       "1    ['Action', 'Adventure', 'Drama', 'Sci-Fi']    3 hr 1 min   PG-13  \n",
       "2  ['Action', 'Adventure', 'Fantasy', 'Sci-Fi']   2 hr 42 min   PG-13  \n",
       "3             ['Action', 'Adventure', 'Sci-Fi']   2 hr 14 min     NaN  \n",
       "4             ['Action', 'Adventure', 'Sci-Fi']   2 hr 29 min     NaN  "
      ]
     },
     "execution_count": 109,
     "metadata": {},
     "output_type": "execute_result"
    }
   ],
   "source": [
    "laptop_data=pd.read_csv('Folder1/Highest Holywood Grossing Movies.csv',encoding=\"ISO-8859-1\", index_col=0)\n",
    "laptop_data.head()"
   ]
  },
  {
   "cell_type": "code",
   "execution_count": 110,
   "id": "51cf6ad9",
   "metadata": {},
   "outputs": [
    {
     "data": {
      "text/plain": [
       "(918, 10)"
      ]
     },
     "execution_count": 110,
     "metadata": {},
     "output_type": "execute_result"
    }
   ],
   "source": [
    "laptop_data.shape"
   ]
  },
  {
   "cell_type": "code",
   "execution_count": 111,
   "id": "1e68da2c",
   "metadata": {},
   "outputs": [],
   "source": [
    "laptop_data.drop(['Movie Info','World Sales (in $)','License','Release Date','Movie Runtime','International Sales (in $)'], inplace=True, axis=1)"
   ]
  },
  {
   "cell_type": "code",
   "execution_count": 112,
   "id": "7d0ec774",
   "metadata": {},
   "outputs": [
    {
     "data": {
      "text/html": [
       "<div>\n",
       "<style scoped>\n",
       "    .dataframe tbody tr th:only-of-type {\n",
       "        vertical-align: middle;\n",
       "    }\n",
       "\n",
       "    .dataframe tbody tr th {\n",
       "        vertical-align: top;\n",
       "    }\n",
       "\n",
       "    .dataframe thead th {\n",
       "        text-align: right;\n",
       "    }\n",
       "</style>\n",
       "<table border=\"1\" class=\"dataframe\">\n",
       "  <thead>\n",
       "    <tr style=\"text-align: right;\">\n",
       "      <th></th>\n",
       "      <th>Title</th>\n",
       "      <th>Distributor</th>\n",
       "      <th>Domestic Sales (in $)</th>\n",
       "      <th>Genre</th>\n",
       "    </tr>\n",
       "  </thead>\n",
       "  <tbody>\n",
       "    <tr>\n",
       "      <th>0</th>\n",
       "      <td>Star Wars: Episode VII - The Force Awakens (2015)</td>\n",
       "      <td>Walt Disney Studios Motion Pictures</td>\n",
       "      <td>936662225</td>\n",
       "      <td>['Action', 'Adventure', 'Sci-Fi']</td>\n",
       "    </tr>\n",
       "    <tr>\n",
       "      <th>1</th>\n",
       "      <td>Avengers: Endgame (2019)</td>\n",
       "      <td>Walt Disney Studios Motion Pictures</td>\n",
       "      <td>858373000</td>\n",
       "      <td>['Action', 'Adventure', 'Drama', 'Sci-Fi']</td>\n",
       "    </tr>\n",
       "    <tr>\n",
       "      <th>2</th>\n",
       "      <td>Avatar (2009)</td>\n",
       "      <td>Twentieth Century Fox</td>\n",
       "      <td>760507625</td>\n",
       "      <td>['Action', 'Adventure', 'Fantasy', 'Sci-Fi']</td>\n",
       "    </tr>\n",
       "    <tr>\n",
       "      <th>3</th>\n",
       "      <td>Black Panther (2018)</td>\n",
       "      <td>Walt Disney Studios Motion Pictures</td>\n",
       "      <td>700426566</td>\n",
       "      <td>['Action', 'Adventure', 'Sci-Fi']</td>\n",
       "    </tr>\n",
       "    <tr>\n",
       "      <th>4</th>\n",
       "      <td>Avengers: Infinity War (2018)</td>\n",
       "      <td>Walt Disney Studios Motion Pictures</td>\n",
       "      <td>678815482</td>\n",
       "      <td>['Action', 'Adventure', 'Sci-Fi']</td>\n",
       "    </tr>\n",
       "    <tr>\n",
       "      <th>5</th>\n",
       "      <td>Spider-Man: No Way Home (2021)</td>\n",
       "      <td>Sony Pictures Entertainment (SPE)</td>\n",
       "      <td>675813257</td>\n",
       "      <td>['Action', 'Adventure', 'Fantasy', 'Sci-Fi']</td>\n",
       "    </tr>\n",
       "    <tr>\n",
       "      <th>6</th>\n",
       "      <td>Titanic (1997)</td>\n",
       "      <td>Paramount Pictures</td>\n",
       "      <td>659363944</td>\n",
       "      <td>['Drama', 'Romance']</td>\n",
       "    </tr>\n",
       "    <tr>\n",
       "      <th>7</th>\n",
       "      <td>Jurassic World (2015)</td>\n",
       "      <td>Universal Pictures</td>\n",
       "      <td>652385625</td>\n",
       "      <td>['Action', 'Adventure', 'Sci-Fi']</td>\n",
       "    </tr>\n",
       "    <tr>\n",
       "      <th>8</th>\n",
       "      <td>The Avengers (2012)</td>\n",
       "      <td>Walt Disney Studios Motion Pictures</td>\n",
       "      <td>623357910</td>\n",
       "      <td>['Action', 'Adventure', 'Sci-Fi']</td>\n",
       "    </tr>\n",
       "    <tr>\n",
       "      <th>9</th>\n",
       "      <td>Star Wars: Episode VIII - The Last Jedi (2017)</td>\n",
       "      <td>Walt Disney Studios Motion Pictures</td>\n",
       "      <td>620181382</td>\n",
       "      <td>['Action', 'Adventure', 'Fantasy', 'Sci-Fi']</td>\n",
       "    </tr>\n",
       "  </tbody>\n",
       "</table>\n",
       "</div>"
      ],
      "text/plain": [
       "                                               Title  \\\n",
       "0  Star Wars: Episode VII - The Force Awakens (2015)   \n",
       "1                           Avengers: Endgame (2019)   \n",
       "2                                      Avatar (2009)   \n",
       "3                               Black Panther (2018)   \n",
       "4                      Avengers: Infinity War (2018)   \n",
       "5                     Spider-Man: No Way Home (2021)   \n",
       "6                                     Titanic (1997)   \n",
       "7                              Jurassic World (2015)   \n",
       "8                                The Avengers (2012)   \n",
       "9     Star Wars: Episode VIII - The Last Jedi (2017)   \n",
       "\n",
       "                           Distributor  Domestic Sales (in $)  \\\n",
       "0  Walt Disney Studios Motion Pictures              936662225   \n",
       "1  Walt Disney Studios Motion Pictures              858373000   \n",
       "2                Twentieth Century Fox              760507625   \n",
       "3  Walt Disney Studios Motion Pictures              700426566   \n",
       "4  Walt Disney Studios Motion Pictures              678815482   \n",
       "5    Sony Pictures Entertainment (SPE)              675813257   \n",
       "6                   Paramount Pictures              659363944   \n",
       "7                   Universal Pictures              652385625   \n",
       "8  Walt Disney Studios Motion Pictures              623357910   \n",
       "9  Walt Disney Studios Motion Pictures              620181382   \n",
       "\n",
       "                                          Genre  \n",
       "0             ['Action', 'Adventure', 'Sci-Fi']  \n",
       "1    ['Action', 'Adventure', 'Drama', 'Sci-Fi']  \n",
       "2  ['Action', 'Adventure', 'Fantasy', 'Sci-Fi']  \n",
       "3             ['Action', 'Adventure', 'Sci-Fi']  \n",
       "4             ['Action', 'Adventure', 'Sci-Fi']  \n",
       "5  ['Action', 'Adventure', 'Fantasy', 'Sci-Fi']  \n",
       "6                          ['Drama', 'Romance']  \n",
       "7             ['Action', 'Adventure', 'Sci-Fi']  \n",
       "8             ['Action', 'Adventure', 'Sci-Fi']  \n",
       "9  ['Action', 'Adventure', 'Fantasy', 'Sci-Fi']  "
      ]
     },
     "execution_count": 112,
     "metadata": {},
     "output_type": "execute_result"
    }
   ],
   "source": [
    "laptop_data.head(10)"
   ]
  },
  {
   "cell_type": "code",
   "execution_count": 113,
   "id": "0e474678",
   "metadata": {},
   "outputs": [
    {
     "data": {
      "text/plain": [
       "array(['Walt Disney Studios Motion Pictures', 'Twentieth Century Fox',\n",
       "       'Sony Pictures Entertainment (SPE)', 'Paramount Pictures',\n",
       "       'Universal Pictures', 'Warner Bros.', 'DreamWorks Distribution',\n",
       "       'Lionsgate', 'DreamWorks', 'New Line Cinema', 'Newmarket Films',\n",
       "       'Summit Entertainment', 'Columbia Pictures', 'IFC Films',\n",
       "       'TriStar Pictures', 'Orion Pictures', 'Metro-Goldwyn-Mayer (MGM)',\n",
       "       'Miramax', 'The Weinstein Company', 'Fox Searchlight Pictures',\n",
       "       'Revolution Studios', 'Artisan Entertainment',\n",
       "       'Sony Pictures Classics', 'United Artists', 'Screen Gems',\n",
       "       'USA Films', '20th Century Studios', 'STX Entertainment',\n",
       "       'Dimension Films', 'United Artists Releasing', 'FilmDistrict',\n",
       "       'Focus Features', 'Relativity Media', 'Roadside Attractions'],\n",
       "      dtype=object)"
      ]
     },
     "execution_count": 113,
     "metadata": {},
     "output_type": "execute_result"
    }
   ],
   "source": [
    "laptop_data['Distributor'].unique()"
   ]
  },
  {
   "cell_type": "code",
   "execution_count": 114,
   "id": "238cef4d",
   "metadata": {},
   "outputs": [
    {
     "data": {
      "text/plain": [
       "Warner Bros.                           158\n",
       "Walt Disney Studios Motion Pictures    155\n",
       "Universal Pictures                     119\n",
       "Twentieth Century Fox                  117\n",
       "Sony Pictures Entertainment (SPE)      101\n",
       "Paramount Pictures                      99\n",
       "DreamWorks                              21\n",
       "New Line Cinema                         21\n",
       "Lionsgate                               19\n",
       "DreamWorks Distribution                 17\n",
       "Metro-Goldwyn-Mayer (MGM)               12\n",
       "TriStar Pictures                         9\n",
       "Miramax                                  9\n",
       "Revolution Studios                       8\n",
       "Columbia Pictures                        7\n",
       "Dimension Films                          7\n",
       "The Weinstein Company                    6\n",
       "Summit Entertainment                     5\n",
       "Fox Searchlight Pictures                 4\n",
       "STX Entertainment                        3\n",
       "Orion Pictures                           3\n",
       "Screen Gems                              3\n",
       "United Artists                           2\n",
       "Focus Features                           2\n",
       "FilmDistrict                             2\n",
       "Relativity Media                         1\n",
       "United Artists Releasing                 1\n",
       "IFC Films                                1\n",
       "20th Century Studios                     1\n",
       "USA Films                                1\n",
       "Sony Pictures Classics                   1\n",
       "Artisan Entertainment                    1\n",
       "Newmarket Films                          1\n",
       "Roadside Attractions                     1\n",
       "Name: Distributor, dtype: int64"
      ]
     },
     "execution_count": 114,
     "metadata": {},
     "output_type": "execute_result"
    }
   ],
   "source": [
    "laptop_data.Distributor.value_counts()"
   ]
  },
  {
   "cell_type": "code",
   "execution_count": 115,
   "id": "a282ad9a",
   "metadata": {},
   "outputs": [
    {
     "data": {
      "image/png": "[encoded data removed]",
      "text/plain": [
       "<Figure size 864x576 with 1 Axes>"
      ]
     },
     "metadata": {
      "needs_background": "light"
     },
     "output_type": "display_data"
    }
   ],
   "source": [
    "plt.figure(figsize=(12,8))\n",
    "\n",
    "laptop_data['Distributor'].value_counts().plot(kind='bar')\n",
    "\n",
    "plt.title(\"Most grossing Movie Distributors\", fontsize=15)\n",
    "\n",
    "plt.xlabel('Distributor',fontsize=10)\n",
    "plt.ylabel('Frequency', fontsize=10)\n",
    "plt.show()"
   ]
  },
  {
   "cell_type": "code",
   "execution_count": 116,
   "id": "34f97f4b",
   "metadata": {},
   "outputs": [
    {
     "data": {
      "text/plain": [
       "<AxesSubplot:>"
      ]
     },
     "execution_count": 116,
     "metadata": {},
     "output_type": "execute_result"
    },
    {
     "data": {
      "image/png": "[encoded data removed]",
      "text/plain": [
       "<Figure size 864x576 with 1 Axes>"
      ]
     },
     "metadata": {
      "needs_background": "light"
     },
     "output_type": "display_data"
    }
   ],
   "source": [
    "plt.figure(figsize=(12,8))\n",
    "laptop_data[['Domestic Sales (in $)']].boxplot()"
   ]
  },
  {
   "cell_type": "code",
   "execution_count": 117,
   "id": "1984ac59",
   "metadata": {},
   "outputs": [
    {
     "data": {
      "text/plain": [
       "<AxesSubplot:title={'center':'Domestic Sales (in $)'}, xlabel='Distributor'>"
      ]
     },
     "execution_count": 117,
     "metadata": {},
     "output_type": "execute_result"
    },
    {
     "data": {
      "image/png": "[encoded data removed]",
      "text/plain": [
       "<Figure size 2160x1440 with 1 Axes>"
      ]
     },
     "metadata": {
      "needs_background": "light"
     },
     "output_type": "display_data"
    }
   ],
   "source": [
    "laptop_data.boxplot(by='Distributor', column=['Domestic Sales (in $)'],\n",
    "                                     grid=False,figsize=(30,20))"
   ]
  },
  {
   "cell_type": "code",
   "execution_count": 118,
   "id": "b25ef68c",
   "metadata": {},
   "outputs": [
    {
     "data": {
      "image/png": "[encoded data removed]",
      "text/plain": [
       "<Figure size 1440x864 with 1 Axes>"
      ]
     },
     "metadata": {
      "needs_background": "light"
     },
     "output_type": "display_data"
    }
   ],
   "source": [
    "#Swarm plot and box plot gives us same info but swarm plot gives real data points and their distribution\n",
    "plt.figure(figsize=(20,12))\n",
    "laptop_data_1=laptop_data.head(25)\n",
    "sns.swarmplot(x='Distributor',y='Domestic Sales (in $)',data=laptop_data_1)\n",
    "\n",
    "plt.title(\"Most grossing Movie Distributors\", fontsize=15)\n",
    "\n",
    "plt.xlabel('Distributor',fontsize=10)\n",
    "plt.ylabel('Frequency', fontsize=10)\n",
    "plt.show()"
   ]
  },
  {
   "cell_type": "code",
   "execution_count": 119,
   "id": "9b487772",
   "metadata": {},
   "outputs": [],
   "source": [
    "#:LabelEncoder will represent/encode the categorical data as an integer. \n",
    "#(Discrete data is encoded to numeric form to feed into the ML model)\n",
    "#Can also use one hot encoding\n",
    "from sklearn.preprocessing import LabelEncoder\n",
    "\n",
    "label_encoder=LabelEncoder();\n",
    "\n",
    "laptop_data['Distributor']=label_encoder.fit_transform(laptop_data['Distributor'])"
   ]
  },
  {
   "cell_type": "code",
   "execution_count": 120,
   "id": "9d81a028",
   "metadata": {},
   "outputs": [
    {
     "data": {
      "text/html": [
       "<div>\n",
       "<style scoped>\n",
       "    .dataframe tbody tr th:only-of-type {\n",
       "        vertical-align: middle;\n",
       "    }\n",
       "\n",
       "    .dataframe tbody tr th {\n",
       "        vertical-align: top;\n",
       "    }\n",
       "\n",
       "    .dataframe thead th {\n",
       "        text-align: right;\n",
       "    }\n",
       "</style>\n",
       "<table border=\"1\" class=\"dataframe\">\n",
       "  <thead>\n",
       "    <tr style=\"text-align: right;\">\n",
       "      <th></th>\n",
       "      <th>Title</th>\n",
       "      <th>Distributor</th>\n",
       "      <th>Domestic Sales (in $)</th>\n",
       "      <th>Genre</th>\n",
       "    </tr>\n",
       "  </thead>\n",
       "  <tbody>\n",
       "    <tr>\n",
       "      <th>0</th>\n",
       "      <td>Star Wars: Episode VII - The Force Awakens (2015)</td>\n",
       "      <td>32</td>\n",
       "      <td>936662225</td>\n",
       "      <td>['Action', 'Adventure', 'Sci-Fi']</td>\n",
       "    </tr>\n",
       "    <tr>\n",
       "      <th>1</th>\n",
       "      <td>Avengers: Endgame (2019)</td>\n",
       "      <td>32</td>\n",
       "      <td>858373000</td>\n",
       "      <td>['Action', 'Adventure', 'Drama', 'Sci-Fi']</td>\n",
       "    </tr>\n",
       "    <tr>\n",
       "      <th>2</th>\n",
       "      <td>Avatar (2009)</td>\n",
       "      <td>27</td>\n",
       "      <td>760507625</td>\n",
       "      <td>['Action', 'Adventure', 'Fantasy', 'Sci-Fi']</td>\n",
       "    </tr>\n",
       "    <tr>\n",
       "      <th>3</th>\n",
       "      <td>Black Panther (2018)</td>\n",
       "      <td>32</td>\n",
       "      <td>700426566</td>\n",
       "      <td>['Action', 'Adventure', 'Sci-Fi']</td>\n",
       "    </tr>\n",
       "    <tr>\n",
       "      <th>4</th>\n",
       "      <td>Avengers: Infinity War (2018)</td>\n",
       "      <td>32</td>\n",
       "      <td>678815482</td>\n",
       "      <td>['Action', 'Adventure', 'Sci-Fi']</td>\n",
       "    </tr>\n",
       "    <tr>\n",
       "      <th>5</th>\n",
       "      <td>Spider-Man: No Way Home (2021)</td>\n",
       "      <td>23</td>\n",
       "      <td>675813257</td>\n",
       "      <td>['Action', 'Adventure', 'Fantasy', 'Sci-Fi']</td>\n",
       "    </tr>\n",
       "    <tr>\n",
       "      <th>6</th>\n",
       "      <td>Titanic (1997)</td>\n",
       "      <td>16</td>\n",
       "      <td>659363944</td>\n",
       "      <td>['Drama', 'Romance']</td>\n",
       "    </tr>\n",
       "    <tr>\n",
       "      <th>7</th>\n",
       "      <td>Jurassic World (2015)</td>\n",
       "      <td>31</td>\n",
       "      <td>652385625</td>\n",
       "      <td>['Action', 'Adventure', 'Sci-Fi']</td>\n",
       "    </tr>\n",
       "    <tr>\n",
       "      <th>8</th>\n",
       "      <td>The Avengers (2012)</td>\n",
       "      <td>32</td>\n",
       "      <td>623357910</td>\n",
       "      <td>['Action', 'Adventure', 'Sci-Fi']</td>\n",
       "    </tr>\n",
       "    <tr>\n",
       "      <th>9</th>\n",
       "      <td>Star Wars: Episode VIII - The Last Jedi (2017)</td>\n",
       "      <td>32</td>\n",
       "      <td>620181382</td>\n",
       "      <td>['Action', 'Adventure', 'Fantasy', 'Sci-Fi']</td>\n",
       "    </tr>\n",
       "  </tbody>\n",
       "</table>\n",
       "</div>"
      ],
      "text/plain": [
       "                                               Title  Distributor  \\\n",
       "0  Star Wars: Episode VII - The Force Awakens (2015)           32   \n",
       "1                           Avengers: Endgame (2019)           32   \n",
       "2                                      Avatar (2009)           27   \n",
       "3                               Black Panther (2018)           32   \n",
       "4                      Avengers: Infinity War (2018)           32   \n",
       "5                     Spider-Man: No Way Home (2021)           23   \n",
       "6                                     Titanic (1997)           16   \n",
       "7                              Jurassic World (2015)           31   \n",
       "8                                The Avengers (2012)           32   \n",
       "9     Star Wars: Episode VIII - The Last Jedi (2017)           32   \n",
       "\n",
       "   Domestic Sales (in $)                                         Genre  \n",
       "0              936662225             ['Action', 'Adventure', 'Sci-Fi']  \n",
       "1              858373000    ['Action', 'Adventure', 'Drama', 'Sci-Fi']  \n",
       "2              760507625  ['Action', 'Adventure', 'Fantasy', 'Sci-Fi']  \n",
       "3              700426566             ['Action', 'Adventure', 'Sci-Fi']  \n",
       "4              678815482             ['Action', 'Adventure', 'Sci-Fi']  \n",
       "5              675813257  ['Action', 'Adventure', 'Fantasy', 'Sci-Fi']  \n",
       "6              659363944                          ['Drama', 'Romance']  \n",
       "7              652385625             ['Action', 'Adventure', 'Sci-Fi']  \n",
       "8              623357910             ['Action', 'Adventure', 'Sci-Fi']  \n",
       "9              620181382  ['Action', 'Adventure', 'Fantasy', 'Sci-Fi']  "
      ]
     },
     "execution_count": 120,
     "metadata": {},
     "output_type": "execute_result"
    }
   ],
   "source": [
    "laptop_data.head(10)"
   ]
  },
  {
   "cell_type": "code",
   "execution_count": 121,
   "id": "24c2110d",
   "metadata": {},
   "outputs": [],
   "source": [
    "#One Hot encoding\n",
    "dummy_laptop_data=pd.get_dummies(laptop_data)\n"
   ]
  },
  {
   "cell_type": "code",
   "execution_count": 122,
   "id": "c2c979c5",
   "metadata": {},
   "outputs": [
    {
     "data": {
      "text/html": [
       "<div>\n",
       "<style scoped>\n",
       "    .dataframe tbody tr th:only-of-type {\n",
       "        vertical-align: middle;\n",
       "    }\n",
       "\n",
       "    .dataframe tbody tr th {\n",
       "        vertical-align: top;\n",
       "    }\n",
       "\n",
       "    .dataframe thead th {\n",
       "        text-align: right;\n",
       "    }\n",
       "</style>\n",
       "<table border=\"1\" class=\"dataframe\">\n",
       "  <thead>\n",
       "    <tr style=\"text-align: right;\">\n",
       "      <th></th>\n",
       "      <th>Distributor</th>\n",
       "      <th>Domestic Sales (in $)</th>\n",
       "      <th>Title_10,000 BC (2008)</th>\n",
       "      <th>Title_1917 (2019)</th>\n",
       "      <th>Title_2 Fast 2 Furious (2003)</th>\n",
       "      <th>Title_2012 (2009)</th>\n",
       "      <th>Title_21 (2008)</th>\n",
       "      <th>Title_21 Jump Street (2012)</th>\n",
       "      <th>Title_22 Jump Street (2014)</th>\n",
       "      <th>Title_300 (2006)</th>\n",
       "      <th>...</th>\n",
       "      <th>Genre_['Drama']</th>\n",
       "      <th>Genre_['Fantasy', 'Horror', 'Mystery', 'Thriller']</th>\n",
       "      <th>Genre_['Fantasy', 'Horror', 'Mystery']</th>\n",
       "      <th>Genre_['Fantasy', 'Mystery', 'Romance', 'Sci-Fi', 'Thriller']</th>\n",
       "      <th>Genre_['Horror', 'Mystery', 'Thriller']</th>\n",
       "      <th>Genre_['Horror', 'Mystery']</th>\n",
       "      <th>Genre_['Horror', 'Sci-Fi']</th>\n",
       "      <th>Genre_['Horror', 'Thriller']</th>\n",
       "      <th>Genre_['Horror']</th>\n",
       "      <th>Genre_['Mystery', 'Thriller']</th>\n",
       "    </tr>\n",
       "  </thead>\n",
       "  <tbody>\n",
       "    <tr>\n",
       "      <th>0</th>\n",
       "      <td>32</td>\n",
       "      <td>936662225</td>\n",
       "      <td>0</td>\n",
       "      <td>0</td>\n",
       "      <td>0</td>\n",
       "      <td>0</td>\n",
       "      <td>0</td>\n",
       "      <td>0</td>\n",
       "      <td>0</td>\n",
       "      <td>0</td>\n",
       "      <td>...</td>\n",
       "      <td>0</td>\n",
       "      <td>0</td>\n",
       "      <td>0</td>\n",
       "      <td>0</td>\n",
       "      <td>0</td>\n",
       "      <td>0</td>\n",
       "      <td>0</td>\n",
       "      <td>0</td>\n",
       "      <td>0</td>\n",
       "      <td>0</td>\n",
       "    </tr>\n",
       "    <tr>\n",
       "      <th>1</th>\n",
       "      <td>32</td>\n",
       "      <td>858373000</td>\n",
       "      <td>0</td>\n",
       "      <td>0</td>\n",
       "      <td>0</td>\n",
       "      <td>0</td>\n",
       "      <td>0</td>\n",
       "      <td>0</td>\n",
       "      <td>0</td>\n",
       "      <td>0</td>\n",
       "      <td>...</td>\n",
       "      <td>0</td>\n",
       "      <td>0</td>\n",
       "      <td>0</td>\n",
       "      <td>0</td>\n",
       "      <td>0</td>\n",
       "      <td>0</td>\n",
       "      <td>0</td>\n",
       "      <td>0</td>\n",
       "      <td>0</td>\n",
       "      <td>0</td>\n",
       "    </tr>\n",
       "    <tr>\n",
       "      <th>2</th>\n",
       "      <td>27</td>\n",
       "      <td>760507625</td>\n",
       "      <td>0</td>\n",
       "      <td>0</td>\n",
       "      <td>0</td>\n",
       "      <td>0</td>\n",
       "      <td>0</td>\n",
       "      <td>0</td>\n",
       "      <td>0</td>\n",
       "      <td>0</td>\n",
       "      <td>...</td>\n",
       "      <td>0</td>\n",
       "      <td>0</td>\n",
       "      <td>0</td>\n",
       "      <td>0</td>\n",
       "      <td>0</td>\n",
       "      <td>0</td>\n",
       "      <td>0</td>\n",
       "      <td>0</td>\n",
       "      <td>0</td>\n",
       "      <td>0</td>\n",
       "    </tr>\n",
       "    <tr>\n",
       "      <th>3</th>\n",
       "      <td>32</td>\n",
       "      <td>700426566</td>\n",
       "      <td>0</td>\n",
       "      <td>0</td>\n",
       "      <td>0</td>\n",
       "      <td>0</td>\n",
       "      <td>0</td>\n",
       "      <td>0</td>\n",
       "      <td>0</td>\n",
       "      <td>0</td>\n",
       "      <td>...</td>\n",
       "      <td>0</td>\n",
       "      <td>0</td>\n",
       "      <td>0</td>\n",
       "      <td>0</td>\n",
       "      <td>0</td>\n",
       "      <td>0</td>\n",
       "      <td>0</td>\n",
       "      <td>0</td>\n",
       "      <td>0</td>\n",
       "      <td>0</td>\n",
       "    </tr>\n",
       "    <tr>\n",
       "      <th>4</th>\n",
       "      <td>32</td>\n",
       "      <td>678815482</td>\n",
       "      <td>0</td>\n",
       "      <td>0</td>\n",
       "      <td>0</td>\n",
       "      <td>0</td>\n",
       "      <td>0</td>\n",
       "      <td>0</td>\n",
       "      <td>0</td>\n",
       "      <td>0</td>\n",
       "      <td>...</td>\n",
       "      <td>0</td>\n",
       "      <td>0</td>\n",
       "      <td>0</td>\n",
       "      <td>0</td>\n",
       "      <td>0</td>\n",
       "      <td>0</td>\n",
       "      <td>0</td>\n",
       "      <td>0</td>\n",
       "      <td>0</td>\n",
       "      <td>0</td>\n",
       "    </tr>\n",
       "  </tbody>\n",
       "</table>\n",
       "<p>5 rows × 1229 columns</p>\n",
       "</div>"
      ],
      "text/plain": [
       "   Distributor  Domestic Sales (in $)  Title_10,000 BC (2008)  \\\n",
       "0           32              936662225                       0   \n",
       "1           32              858373000                       0   \n",
       "2           27              760507625                       0   \n",
       "3           32              700426566                       0   \n",
       "4           32              678815482                       0   \n",
       "\n",
       "   Title_1917 (2019)  Title_2 Fast 2 Furious (2003)  Title_2012 (2009)  \\\n",
       "0                  0                              0                  0   \n",
       "1                  0                              0                  0   \n",
       "2                  0                              0                  0   \n",
       "3                  0                              0                  0   \n",
       "4                  0                              0                  0   \n",
       "\n",
       "   Title_21 (2008)  Title_21 Jump Street (2012)  Title_22 Jump Street (2014)  \\\n",
       "0                0                            0                            0   \n",
       "1                0                            0                            0   \n",
       "2                0                            0                            0   \n",
       "3                0                            0                            0   \n",
       "4                0                            0                            0   \n",
       "\n",
       "   Title_300 (2006)  ...  Genre_['Drama']  \\\n",
       "0                 0  ...                0   \n",
       "1                 0  ...                0   \n",
       "2                 0  ...                0   \n",
       "3                 0  ...                0   \n",
       "4                 0  ...                0   \n",
       "\n",
       "   Genre_['Fantasy', 'Horror', 'Mystery', 'Thriller']  \\\n",
       "0                                                  0    \n",
       "1                                                  0    \n",
       "2                                                  0    \n",
       "3                                                  0    \n",
       "4                                                  0    \n",
       "\n",
       "   Genre_['Fantasy', 'Horror', 'Mystery']  \\\n",
       "0                                       0   \n",
       "1                                       0   \n",
       "2                                       0   \n",
       "3                                       0   \n",
       "4                                       0   \n",
       "\n",
       "   Genre_['Fantasy', 'Mystery', 'Romance', 'Sci-Fi', 'Thriller']  \\\n",
       "0                                                  0               \n",
       "1                                                  0               \n",
       "2                                                  0               \n",
       "3                                                  0               \n",
       "4                                                  0               \n",
       "\n",
       "   Genre_['Horror', 'Mystery', 'Thriller']  Genre_['Horror', 'Mystery']  \\\n",
       "0                                        0                            0   \n",
       "1                                        0                            0   \n",
       "2                                        0                            0   \n",
       "3                                        0                            0   \n",
       "4                                        0                            0   \n",
       "\n",
       "   Genre_['Horror', 'Sci-Fi']  Genre_['Horror', 'Thriller']  Genre_['Horror']  \\\n",
       "0                           0                             0                 0   \n",
       "1                           0                             0                 0   \n",
       "2                           0                             0                 0   \n",
       "3                           0                             0                 0   \n",
       "4                           0                             0                 0   \n",
       "\n",
       "   Genre_['Mystery', 'Thriller']  \n",
       "0                              0  \n",
       "1                              0  \n",
       "2                              0  \n",
       "3                              0  \n",
       "4                              0  \n",
       "\n",
       "[5 rows x 1229 columns]"
      ]
     },
     "execution_count": 122,
     "metadata": {},
     "output_type": "execute_result"
    }
   ],
   "source": [
    "dummy_laptop_data.head()"
   ]
  },
  {
   "cell_type": "code",
   "execution_count": 123,
   "id": "246b2bec",
   "metadata": {},
   "outputs": [
    {
     "data": {
      "text/plain": [
       "(918, 1229)"
      ]
     },
     "execution_count": 123,
     "metadata": {},
     "output_type": "execute_result"
    }
   ],
   "source": [
    "dummy_laptop_data.shape"
   ]
  },
  {
   "cell_type": "code",
   "execution_count": 124,
   "id": "fb4aead6",
   "metadata": {},
   "outputs": [
    {
     "data": {
      "text/plain": [
       "Domestic Sales (in$)    float64\n",
       "dtype: object"
      ]
     },
     "execution_count": 124,
     "metadata": {},
     "output_type": "execute_result"
    }
   ],
   "source": [
    "pd.DataFrame(dummy_laptop_data,columns=['Domestic Sales (in$)']).dtypes"
   ]
  },
  {
   "cell_type": "code",
   "execution_count": 125,
   "id": "48267c55",
   "metadata": {},
   "outputs": [],
   "source": [
    "x=dummy_laptop_data.drop('Domestic Sales (in $)',axis=1)      #Predictors will be all columns except domestic sales\n",
    "\n",
    "y=dummy_laptop_data['Domestic Sales (in $)']                   #Target, what we are trying to predict is the domestic sales given\n",
    "                                                              #its other characteristics"
   ]
  },
  {
   "cell_type": "code",
   "execution_count": 126,
   "id": "00907ac6",
   "metadata": {},
   "outputs": [],
   "source": [
    "from sklearn.model_selection import train_test_split              #Train set to train the ML model and test set to evaluate it\n",
    "\n",
    "X_train, X_test, Y_train, Y_test=train_test_split(x,y,test_size=0.2) #The size od test data=20% of original data set"
   ]
  },
  {
   "cell_type": "code",
   "execution_count": 127,
   "id": "277a170e",
   "metadata": {},
   "outputs": [
    {
     "data": {
      "text/plain": [
       "((734, 1228), (184, 1228))"
      ]
     },
     "execution_count": 127,
     "metadata": {},
     "output_type": "execute_result"
    }
   ],
   "source": [
    "X_train.shape, X_test.shape,\n"
   ]
  },
  {
   "cell_type": "code",
   "execution_count": 128,
   "id": "fcceb909",
   "metadata": {},
   "outputs": [
    {
     "data": {
      "text/plain": [
       "((734,), (184,))"
      ]
     },
     "execution_count": 128,
     "metadata": {},
     "output_type": "execute_result"
    }
   ],
   "source": [
    "Y_train.shape, Y_test.shape"
   ]
  },
  {
   "cell_type": "code",
   "execution_count": 129,
   "id": "70b1d85c",
   "metadata": {},
   "outputs": [
    {
     "data": {
      "text/plain": [
       "LinearRegression()"
      ]
     },
     "execution_count": 129,
     "metadata": {},
     "output_type": "execute_result"
    }
   ],
   "source": [
    "#import the estimators to build and train model\n",
    "from sklearn.linear_model import LinearRegression \n",
    "from sklearn.metrics import r2_score\n",
    "\n",
    "linear_regression=LinearRegression()\n",
    "\n",
    "linear_regression.fit(X_train,Y_train)"
   ]
  },
  {
   "cell_type": "code",
   "execution_count": 130,
   "id": "f9660606",
   "metadata": {},
   "outputs": [
    {
     "data": {
      "text/plain": [
       "1.0"
      ]
     },
     "execution_count": 130,
     "metadata": {},
     "output_type": "execute_result"
    }
   ],
   "source": [
    "#To get r^2 score\n",
    "linear_regression.score(X_train,Y_train)"
   ]
  },
  {
   "cell_type": "code",
   "execution_count": 131,
   "id": "f6b3119f",
   "metadata": {},
   "outputs": [
    {
     "data": {
      "text/plain": [
       "0.19595699970113145"
      ]
     },
     "execution_count": 131,
     "metadata": {},
     "output_type": "execute_result"
    }
   ],
   "source": [
    "y_pred=linear_regression.predict(X_test)\n",
    "\n",
    "r2_score(Y_test, y_pred)\n",
    "\n",
    "#model with high r2 score on test data as compared to training data is considered to be a good model\n",
    "# r2_test > r2_train   -----> good model"
   ]
  },
  {
   "cell_type": "code",
   "execution_count": 133,
   "id": "6376a84c",
   "metadata": {},
   "outputs": [
    {
     "data": {
      "image/png": "[encoded data removed]",
      "text/plain": [
       "<Figure size 864x576 with 1 Axes>"
      ]
     },
     "metadata": {
      "needs_background": "light"
     },
     "output_type": "display_data"
    }
   ],
   "source": [
    "#Visualization of how the actual values compare against the predicted values from the model\n",
    "\n",
    "plt.figure(figsize=(12,8))\n",
    "\n",
    "plt.scatter(Y_test, y_pred)\n",
    "\n",
    "plt.xlabel('Actual Value',fontsize=10)\n",
    "plt.ylabel('Predicted Value', fontsize=10)\n",
    "plt.show()"
   ]
  },
  {
   "cell_type": "code",
   "execution_count": null,
   "id": "149932b0",
   "metadata": {},
   "outputs": [],
   "source": []
  }
 ],
 "metadata": {
  "kernelspec": {
   "display_name": "Python 3 (ipykernel)",
   "language": "python",
   "name": "python3"
  },
  "language_info": {
   "codemirror_mode": {
    "name": "ipython",
    "version": 3
   },
   "file_extension": ".py",
   "mimetype": "text/x-python",
   "name": "python",
   "nbconvert_exporter": "python",
   "pygments_lexer": "ipython3",
   "version": "3.9.7"
  }
 },
 "nbformat": 4,
 "nbformat_minor": 5
}
